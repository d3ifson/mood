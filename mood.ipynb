{
  "nbformat": 4,
  "nbformat_minor": 0,
  "metadata": {
    "colab": {
      "provenance": [],
      "include_colab_link": true
    },
    "kernelspec": {
      "name": "python3",
      "display_name": "Python 3"
    },
    "language_info": {
      "name": "python"
    }
  },
  "cells": [
    {
      "cell_type": "markdown",
      "metadata": {
        "id": "view-in-github",
        "colab_type": "text"
      },
      "source": [
        "<a href=\"https://colab.research.google.com/github/d3ifson/mood/blob/main/mood.ipynb\" target=\"_parent\"><img src=\"https://colab.research.google.com/assets/colab-badge.svg\" alt=\"Open In Colab\"/></a>"
      ]
    },
    {
      "cell_type": "code",
      "source": [
        "!pip install -U -q google-generativeai"
      ],
      "metadata": {
        "id": "xLenMxxR_ACM"
      },
      "execution_count": 2,
      "outputs": []
    },
    {
      "cell_type": "code",
      "source": [
        "# Importações necessárias\n",
        "import google.generativeai as genai\n",
        "from google.colab import userdata\n",
        "\n",
        "# Função para configurar a chave da API\n",
        "def configure_api():\n",
        "    try:\n",
        "        api_key = userdata.get(\"SECRET_KEY\")\n",
        "        if not api_key:\n",
        "            raise ValueError(\"Chave da API não encontrada. Certifique-se de que 'SECRET_KEY' está configurada.\")\n",
        "        genai.configure(api_key=api_key)\n",
        "        print(\"Chave da API configurada com sucesso.\")\n",
        "    except Exception as e:\n",
        "        print(f\"Erro ao configurar a chave da API: {e}\")\n",
        "\n",
        "# Configurando a API\n",
        "configure_api()"
      ],
      "metadata": {
        "colab": {
          "base_uri": "https://localhost:8080/"
        },
        "id": "lltr94VK-7Nl",
        "outputId": "b21f7877-1880-4c77-f87c-b8f19a7c74d9"
      },
      "execution_count": 3,
      "outputs": [
        {
          "output_type": "stream",
          "name": "stdout",
          "text": [
            "Chave da API configurada com sucesso.\n"
          ]
        }
      ]
    },
    {
      "cell_type": "code",
      "execution_count": 7,
      "metadata": {
        "id": "_Dom2fwnN0YF",
        "collapsed": true
      },
      "outputs": [],
      "source": [
        "generation_config = {\n",
        "    \"candidate_count\": 1,\n",
        "    \"temperature\": 0.5,\n",
        "}\n",
        "\n",
        "safety_setting = {\n",
        "    \"HARASSMENT\": \"BLOCK_NONE\",\n",
        "    \"HATE\": \"BLOCK_NONE\",\n",
        "    \"SEXUAL\": \"BLOCK_NONE\",\n",
        "    \"DANGEROUS\": \"BLOCK_NONE\",\n",
        "}\n",
        "\n",
        "model = genai.GenerativeModel(model_name='gemini-1.5-pro-latest',\n",
        "                              generation_config=generation_config,\n",
        "                              safety_settings=safety_setting)\n",
        "\n",
        "chat = model.start_chat(history=[])"
      ]
    },
    {
      "cell_type": "code",
      "source": [
        "# Função para gerar sugestões de bem-estar\n",
        "def generate_wellness_tips():\n",
        "    mood = input(\"Como você está se sentindo hoje? (feliz, triste, ansioso, etc.): \").strip().lower()\n",
        "\n",
        "    # Montando o prompt para gerar sugestões de bem-estar com mais detalhes\n",
        "    prompt = f\"Eu estou me sentindo {mood}. Por favor, sugira atividades específicas para melhorar meu bem-estar considerando que estou {mood}.\"\n",
        "\n",
        "    response = chat.send_message(prompt)\n",
        "    print(\"Sugestões de Bem-Estar:\")\n",
        "    print(response.text, \"\\n\")\n",
        "\n",
        "    return mood\n",
        "\n",
        "# Função para gerar respostas baseadas na opção do usuário\n",
        "def generate_specific_tips(mood, option):\n",
        "    if option == '1':\n",
        "        prompt = f\"Eu estou me sentindo {mood}. Por favor, sugira músicas específicas que sejam apropriadas para alguém que está se sentindo {mood}.\"\n",
        "    elif option == '2':\n",
        "        prompt = f\"Eu estou me sentindo {mood}. Por favor, sugira filmes específicos que sejam apropriados para alguém que está se sentindo {mood}.\"\n",
        "    else:\n",
        "        prompt = f\"Eu estou me sentindo {mood}. Por favor, sugira outras atividades específicas para alguém que está se sentindo {mood}.\"\n",
        "\n",
        "    response = chat.send_message(prompt)\n",
        "    print(\"Sugestões Adicionais:\")\n",
        "    print(response.text, \"\\n\")\n",
        "\n",
        "# Função principal para coletar humor e opções do usuário\n",
        "def main():\n",
        "    mood = generate_wellness_tips()\n",
        "\n",
        "    while True:\n",
        "        print(\"\\nO que você gostaria de fazer a seguir?\")\n",
        "        print(\"1 - Sugestões de músicas\")\n",
        "        print(\"2 - Sugestões de filmes\")\n",
        "        print(\"3 - Outras sugestões de atividades\")\n",
        "        print(\"4 - Fornecer outro humor\")\n",
        "        print(\"5 - Encerrar conversa\")\n",
        "\n",
        "        option = input(\"Digite o número da sua escolha: \").strip()\n",
        "\n",
        "        if option in ['1', '2', '3']:\n",
        "            generate_specific_tips(mood, option)\n",
        "        elif option == '4':\n",
        "            mood = generate_wellness_tips()\n",
        "        elif option == '5':\n",
        "            print(\"Finalizando as sugestões de bem-estar. Até a próxima!\")\n",
        "            break\n",
        "        else:\n",
        "            print(\"Opção inválida. Tente novamente.\")\n",
        "\n",
        "# Início da interação com o usuário\n",
        "main()"
      ],
      "metadata": {
        "id": "ETgFLzhyc1s0"
      },
      "execution_count": null,
      "outputs": []
    }
  ]
}